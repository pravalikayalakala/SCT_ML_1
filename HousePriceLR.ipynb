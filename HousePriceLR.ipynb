{
 "cells": [
  {
   "cell_type": "code",
   "execution_count": 2,
   "id": "d6515c4c-c266-4eb4-aacc-9726509542f0",
   "metadata": {},
   "outputs": [
    {
     "name": "stdout",
     "output_type": "stream",
     "text": [
      "Validation MSE: 2806426667.247852\n",
      "Validation R² Score: 0.6341189942328374\n",
      "Intercept: 52261.74862694448\n",
      "Coefficients: {'GrLivArea': 104.02630701226447, 'BedroomAbvGr': -26655.16535734127, 'FullBath': 30014.32410895662}\n",
      "Predictions saved to submission.csv\n"
     ]
    }
   ],
   "source": [
    "import pandas as pd\n",
    "from sklearn.linear_model import LinearRegression\n",
    "from sklearn.model_selection import train_test_split\n",
    "from sklearn.metrics import mean_squared_error, r2_score\n",
    "\n",
    "# === Step 1: Load the training data ===\n",
    "train_df = pd.read_csv(\"train.csv\")\n",
    "\n",
    "# Use only the relevant columns\n",
    "features = ['GrLivArea', 'BedroomAbvGr', 'FullBath']\n",
    "target = 'SalePrice'\n",
    "\n",
    "# Drop rows with missing values in selected columns\n",
    "train_df = train_df[features + [target]].dropna()\n",
    "\n",
    "X = train_df[features]\n",
    "y = train_df[target]\n",
    "\n",
    "# === Step 2: Train/test split to evaluate ===\n",
    "X_train, X_val, y_train, y_val = train_test_split(\n",
    "    X, y, test_size=0.2, random_state=42\n",
    ")\n",
    "\n",
    "# Train the model\n",
    "model = LinearRegression()\n",
    "model.fit(X_train, y_train)\n",
    "\n",
    "# Evaluate the model on validation data\n",
    "y_pred = model.predict(X_val)\n",
    "print(\"Validation MSE:\", mean_squared_error(y_val, y_pred))\n",
    "print(\"Validation R² Score:\", r2_score(y_val, y_pred))\n",
    "print(\"Intercept:\", model.intercept_)\n",
    "print(\"Coefficients:\", dict(zip(X.columns, model.coef_)))\n",
    "\n",
    "# === Step 3: Load test data for prediction ===\n",
    "test_df = pd.read_csv(\"test.csv\")\n",
    "\n",
    "# Fill missing values (if any) in test set for the selected features\n",
    "# Here we'll just fill with the median of each column for simplicity\n",
    "X_test = test_df[features].fillna(train_df[features].median())\n",
    "\n",
    "# Predict house prices on test data\n",
    "test_predictions = model.predict(X_test)\n",
    "\n",
    "# === Step 4: Prepare submission file ===\n",
    "submission = pd.DataFrame({\n",
    "    'Id': test_df['Id'],  # use original test IDs\n",
    "    'SalePrice': test_predictions\n",
    "})\n",
    "\n",
    "# Save to CSV\n",
    "submission.to_csv(\"submission.csv\", index=False)\n",
    "print(\"Predictions saved to submission.csv\")\n"
   ]
  },
  {
   "cell_type": "code",
   "execution_count": null,
   "id": "e9359314-b213-4aa2-ad17-bd84cb9b52c5",
   "metadata": {},
   "outputs": [],
   "source": []
  }
 ],
 "metadata": {
  "kernelspec": {
   "display_name": "Python 3 (ipykernel)",
   "language": "python",
   "name": "python3"
  },
  "language_info": {
   "codemirror_mode": {
    "name": "ipython",
    "version": 3
   },
   "file_extension": ".py",
   "mimetype": "text/x-python",
   "name": "python",
   "nbconvert_exporter": "python",
   "pygments_lexer": "ipython3",
   "version": "3.11.5"
  }
 },
 "nbformat": 4,
 "nbformat_minor": 5
}
